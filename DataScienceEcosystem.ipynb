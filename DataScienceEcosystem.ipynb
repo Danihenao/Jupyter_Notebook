{
 "cells": [
  {
   "cell_type": "markdown",
   "id": "e9ec59ec-1db7-49f7-bde1-0c033b278220",
   "metadata": {},
   "source": [
    "#Data Science Tools and Ecosystem"
   ]
  },
  {
   "cell_type": "markdown",
   "id": "69706b6d-7972-4158-b2fe-cb8347eb06f4",
   "metadata": {},
   "source": [
    "#En este cuaderno, se resumen las herramientas y ecosistemas de ciencia de datos."
   ]
  },
  {
   "cell_type": "markdown",
   "id": "895eb3bf-74f8-4838-97e5-54ccec460674",
   "metadata": {},
   "source": [
    "**Objetivos:**\n",
    "- Listar lenguajes populares para Ciencia de Datos.\n",
    "- Enumerar bibliotecas utilizadas por los Científicos de Datos. \n",
    "- Presentar ejemplos de evaluación de expresiones aritméticas."
   ]
  },
  {
   "cell_type": "markdown",
   "id": "aabef386-e0df-458f-9496-f4afcd44847b",
   "metadata": {},
   "source": [
    "#Algunos de los lenguajes populares que utilizan los científicos de datos son:\n",
    "1. Python\n",
    "2. R\n",
    "3. SQL"
   ]
  },
  {
   "cell_type": "markdown",
   "id": "74f4ef3e-5920-49e9-8d89-0f5f24d29221",
   "metadata": {},
   "source": [
    "#Algunas de las bibliotecas comúnmente utilizadas por los científicos de datos incluyen:\n",
    "1. Pandas\n",
    "2. NumPy\n",
    "3. Matplotlib"
   ]
  },
  {
   "cell_type": "markdown",
   "id": "d9892ec6-9dcd-4cf3-81a3-ccedc78453d2",
   "metadata": {},
   "source": [
    "| Herramientas de ciencia de datos |\n",
    "|----------------------------------|\n",
    "|Jupyter|\n",
    "|R Studio|\n",
    "|PyCharm|\n"
   ]
  },
  {
   "cell_type": "markdown",
   "id": "265ba5c2-82b9-4f16-a25b-b1c455a71e1e",
   "metadata": {},
   "source": [
    "### A continuación, se presentan algunos ejemplos de evaluación de expresiones aritméticas en Python:\n"
   ]
  },
  {
   "cell_type": "markdown",
   "id": "1ef95df5-c082-42a8-b2cd-470000a3f3e7",
   "metadata": {},
   "source": [
    "##Esta es una expresión aritmética simple para multiplicar y luego sumar enteros"
   ]
  },
  {
   "cell_type": "code",
   "execution_count": 15,
   "id": "7f4c4143-45f7-447f-9bff-7ef223d9e04c",
   "metadata": {},
   "outputs": [
    {
     "data": {
      "text/plain": [
       "17"
      ]
     },
     "execution_count": 15,
     "metadata": {},
     "output_type": "execute_result"
    }
   ],
   "source": [
    "(3*4)+5"
   ]
  },
  {
   "cell_type": "markdown",
   "id": "32409f04-4f11-48f5-ab07-6759ded86164",
   "metadata": {},
   "source": [
    "##Esto convertirá 200 minutos a horas dividiendo por 60:"
   ]
  },
  {
   "cell_type": "code",
   "execution_count": 18,
   "id": "e81fcccf-dbcc-4760-a85a-9a90e2e4f128",
   "metadata": {},
   "outputs": [
    {
     "data": {
      "text/plain": [
       "3.3333333333333335"
      ]
     },
     "execution_count": 18,
     "metadata": {},
     "output_type": "execute_result"
    }
   ],
   "source": [
    "200 / 60"
   ]
  },
  {
   "cell_type": "markdown",
   "id": "b26e92ab-8475-4e21-b8b3-360db0cf5363",
   "metadata": {},
   "source": [
    "##Autor"
   ]
  },
  {
   "cell_type": "markdown",
   "id": "bc245458-0416-445e-9115-271d62ff7d1a",
   "metadata": {},
   "source": [
    "#Daniela Henao Zuluaga"
   ]
  }
 ],
 "metadata": {
  "kernelspec": {
   "display_name": "Python [conda env:PR_Env]",
   "language": "python",
   "name": "conda-env-PR_Env-py"
  },
  "language_info": {
   "codemirror_mode": {
    "name": "ipython",
    "version": 3
   },
   "file_extension": ".py",
   "mimetype": "text/x-python",
   "name": "python",
   "nbconvert_exporter": "python",
   "pygments_lexer": "ipython3",
   "version": "3.12.9"
  }
 },
 "nbformat": 4,
 "nbformat_minor": 5
}
